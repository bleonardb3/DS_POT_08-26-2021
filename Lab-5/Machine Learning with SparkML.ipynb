{
 "cells": [
  {
   "cell_type": "markdown",
   "metadata": {
    "collapsed": true
   },
   "source": [
    "# Machine Learning with Spark ML\n",
    "\n",
    "### In this notebook, we will explore machine learning using Spark ML. We will exploit Spark ML's high-level APIs built on top of DataFrames to create and tune machine learning pipelines. Spark ML Pipelines enable combining multiple algorithms into a single pipeline or workflow. We will utilize Spark ML's feature transformers to convert, modify and scale the features that will be used to develop the machine learning model. Finally, we will evaluate and cross validate our model to demonstrate the process of determining a best fit model and load the results in the database.\n",
    "\n",
    "### We are using machine learning to try to predict records that a human has not seen or vetted before. We will use these predictions to sort the highest priority records for a human to look at. We will use as a training set for the algorithm fake data that has been vetted by an analyst as high, medium or low.¶\n",
    "\n",
    "### We will use generated travel data that has been examined for patterns of Human Trafficking from a DB2 table to do the machine learning.  "
   ]
  },
  {
   "cell_type": "markdown",
   "metadata": {},
   "source": [
    "## Table of contents\n",
    "\n",
    "1. [Setup](#copy)\n",
    "1. [Import Libraries](#install)\n",
    "1. [Read from Object Storage](#object)\n",
    "1. [Transform the data](#transform)\n",
    "1. [Feature Engineering](#engineering)\n",
    "1. [Model the data](#model)\n",
    "1. [Setup the Pipeline](#pipeline)\n",
    "1. [Train the model](#train)\n",
    "1. [Evaluate results](#evaluate)\n",
    "1. [Hyperparameter Tuning](#tuning)\n",
    "1. [Score the records](#score)\n",
    "1. [Insert Credentials](#credentials)\n",
    "1. [Write Results](#write)\n",
    "1. [Create New Version](#version2)\n",
    "1. [Schedule Job](#schedule)\n",
    "1. [Revert to Version](#revert)\n",
    "1. [Even More Help](#help)\n"
   ]
  },
  {
   "cell_type": "markdown",
   "metadata": {},
   "source": [
    "## Setup\n",
    "\n",
    "In order to interface to the WatsonMachineLearning service we need to obtain an api key and find the location of the service. The procedure is written in the lab instructions. "
   ]
  },
  {
   "cell_type": "code",
   "execution_count": null,
   "metadata": {},
   "outputs": [],
   "source": [
    "api_key = \"PASTE API KEY HERE\"\n",
    "location = \"PASTE LOCATION HERE\"\n",
    "projectid = \"PASTE PROJECT ID HERE\"\n",
    "\n"
   ]
  },
  {
   "cell_type": "markdown",
   "metadata": {},
   "source": [
    "## Install pixiedust library"
   ]
  },
  {
   "cell_type": "code",
   "execution_count": null,
   "metadata": {},
   "outputs": [],
   "source": [
    "# ignore the errors in the install\n",
    "!pip install pixiedust"
   ]
  },
  {
   "cell_type": "markdown",
   "metadata": {},
   "source": [
    "## Verify Spark version and existence of Spark"
   ]
  },
  {
   "cell_type": "code",
   "execution_count": null,
   "metadata": {},
   "outputs": [],
   "source": [
    "print('The spark version is {}.'.format(spark.version))"
   ]
  },
  {
   "cell_type": "markdown",
   "metadata": {},
   "source": [
    "<a id=\"install\"></a>\n",
    "##  Import the required libraries"
   ]
  },
  {
   "cell_type": "code",
   "execution_count": null,
   "metadata": {},
   "outputs": [],
   "source": [
    "#Imports for Spark\n",
    "from pyspark.ml.feature import StringIndexer, IndexToString\n",
    "from pyspark.ml.feature import Bucketizer\n",
    "from pyspark.mllib.linalg import Vectors\n",
    "from pyspark.ml.feature import VectorAssembler\n",
    "from pyspark.ml import Pipeline\n",
    "from pyspark.ml.feature import Normalizer\n",
    "from pyspark.ml.classification import LogisticRegression\n",
    "from pyspark.ml.evaluation import BinaryClassificationEvaluator\n",
    "from pyspark.ml.tuning import ParamGridBuilder, CrossValidator\n",
    "from pyspark.ml.classification import NaiveBayes, DecisionTreeClassifier,RandomForestClassifier\n",
    "from pyspark.sql.functions import year\n",
    "from pyspark.ml.tuning import ParamGridBuilder, CrossValidator\n",
    "\n",
    "# Imports for pixiedust\n",
    "from pixiedust.display import *"
   ]
  },
  {
   "cell_type": "markdown",
   "metadata": {},
   "source": [
    "<a id=\"object\"></a>\n",
    "## Read Data Asset - female_human_trafficking_shaped_100 - See Lab Instructions"
   ]
  },
  {
   "cell_type": "code",
   "execution_count": null,
   "metadata": {},
   "outputs": [],
   "source": [
    "# Insert female_human_trafficking_shaped_100 SparkDataFrame in this cell after the comments\n",
    "# make CERTAIN that data_df_n where n is a number is changed to trafficking_df\n",
    "#Put cursor on the next line to Insert to code # @hidden_cell# @hidden_cell\n",
    "\n"
   ]
  },
  {
   "cell_type": "markdown",
   "metadata": {},
   "source": [
    "<a id=\"transform\"></a>\n",
    "## Identify our labels and transform \n",
    "\n",
    "We will use the 'VETTING_LEVEL' column as a label for training the machine learning model.  This is where our analyst has marked the data as vetted.  \n",
    "\n",
    "Spark ML requires that that the labels are data type Double, so we will cast the  column as Double.\n",
    "\n",
    "withColumn() is a Spark SQL way to manipulate a dataframe.  Since an RDD is immutable, we create a new RDD each time we transform.  This code creates a new column VettingTemp and sets it to the values in \"VETTING_LEVEL\" cast to a Double.    It then drops column VETTING_LEVEL and renames column VettingTemp to VETTING_LEVEL.\n",
    "\n",
    "We will also do a similar manipulation for the COUNTRIES_VISITED_COUNT"
   ]
  },
  {
   "cell_type": "code",
   "execution_count": null,
   "metadata": {},
   "outputs": [],
   "source": [
    "DataWithLabels = (trafficking_df.withColumn(\"VettingTemp\", trafficking_df[\"VETTING_LEVEL\"]\n",
    "    .cast(\"Double\")).drop(\"VETTING_LEVEL\").withColumnRenamed(\"VettingTemp\", \"VETTING_LEVEL\"))\n",
    "\n",
    "DataWithLabels = (trafficking_df.withColumn(\"CountriesVisitedCountTemp\", trafficking_df[\"COUNTRIES_VISITED_COUNT\"]\n",
    "    .cast(\"Double\")).drop(\"COUNTRIES_VISITED_COUNT\").withColumnRenamed(\"CountriesVisitedCountTemp\", \"COUNTRIES_VISITED_COUNT\"))"
   ]
  },
  {
   "cell_type": "markdown",
   "metadata": {},
   "source": [
    "We want to use year of birth intead of date of birth in our learning.  \n",
    "\n",
    "Another way to transform an rdd in Spark is using SQL Syntax.  Here, we will be adding a new field, BIRTH_YEAR to our vetting set.  We will also just select the fields we need."
   ]
  },
  {
   "cell_type": "code",
   "execution_count": null,
   "metadata": {},
   "outputs": [],
   "source": [
    "DataWithLabels.createOrReplaceTempView(\"VettingData\")\n",
    "AllVettingData = sqlContext.sql (\"SELECT VETTING_LEVEL, NAME, Category, COUNTRIES_VISITED_COUNT, PASSPORT_COUNTRY, year(BIRTH_DATE) as BIRTH_YEAR, 1 as Counter FROM VettingData\")\n",
    "FilteredVettingData = AllVettingData.filter(\"VETTING_LEVEL==100\")\n",
    "FilteredVettingData.count()"
   ]
  },
  {
   "cell_type": "markdown",
   "metadata": {},
   "source": [
    "Use pixiedust to visually explore the data."
   ]
  },
  {
   "cell_type": "code",
   "execution_count": null,
   "metadata": {
    "pixiedust": {
     "displayParams": {
      "aggregation": "COUNT",
      "charttype": "stacked",
      "clusterby": "VETTING_LEVEL",
      "handlerId": "barChart",
      "keyFields": "COUNTRIES_VISITED_COUNT",
      "rendererId": "matplotlib"
     }
    }
   },
   "outputs": [],
   "source": [
    "display(AllVettingData)"
   ]
  },
  {
   "cell_type": "markdown",
   "metadata": {},
   "source": [
    "Now, let's look at the data we have:\n",
    "\n",
    "VETTING_LEVEL is in four different statuses:\n",
    "\n",
    "    10 - HIGH\n",
    "    \n",
    "    20 - MEDIUM\n",
    "    \n",
    "    30 - LOW\n",
    "    \n",
    "    100 - Unlabeled\n",
    "\n",
    "\n",
    "Print the total number of vetting statuses "
   ]
  },
  {
   "cell_type": "code",
   "execution_count": null,
   "metadata": {},
   "outputs": [],
   "source": [
    "print('The number of rows labeled high is {}.'.format(AllVettingData.filter(AllVettingData['VETTING_LEVEL'] == 10).count()))\n",
    "print('The number of rows labeled medium is {}.'.format(AllVettingData.filter(AllVettingData['VETTING_LEVEL'] == 20).count()))\n",
    "print('The number of rows labeled low is {}.'.format(AllVettingData.filter(AllVettingData['VETTING_LEVEL'] == 30).count()))\n",
    "print('The number of unlabeled rows is {}.'.format(AllVettingData.filter(AllVettingData['VETTING_LEVEL'] == 100).count()))"
   ]
  },
  {
   "cell_type": "markdown",
   "metadata": {},
   "source": [
    "The majority of the data has not been labeled (VETTING_LABEL=100 means unvetted).  We can not use it for our training data, so filter it out.\n",
    "Print the total number of rows."
   ]
  },
  {
   "cell_type": "code",
   "execution_count": null,
   "metadata": {},
   "outputs": [],
   "source": [
    "LabeledVettingData=AllVettingData.filter(\"VETTING_LEVEL != 100\")\n",
    "LabeledVettingData.count()"
   ]
  },
  {
   "cell_type": "code",
   "execution_count": null,
   "metadata": {
    "pixiedust": {
     "displayParams": {
      "aggregation": "COUNT",
      "charttype": "stacked",
      "clusterby": "VETTING_LEVEL",
      "handlerId": "barChart",
      "keyFields": "COUNTRIES_VISITED_COUNT",
      "rendererId": "matplotlib",
      "tableFields": "COUNTRIES_VISITED_COUNT"
     }
    }
   },
   "outputs": [],
   "source": [
    "display(LabeledVettingData)"
   ]
  },
  {
   "cell_type": "markdown",
   "metadata": {},
   "source": [
    "<a id=\"engineering\"></a>\n",
    "## Feature Engineering.\n",
    "### A feature is the elements of the data that we are using in our learning.  We need to transform each one of our features into a format that SparkML can use it.\n",
    "More about the choices for feature engineering can be found here:\n",
    "http://spark.apache.org/docs/2.0.0/ml-features.html#stringindexer\n",
    "\n",
    "\n",
    "The first thing we will do is transform our labels (VETTING_LEVEL) into a format that we can use in the algorithm, and then get back to 'human readable' from in the end. The ML models require that the labels are in a column called 'label'.    The converter helps us transform these back in the end.\n",
    "\n"
   ]
  },
  {
   "cell_type": "code",
   "execution_count": null,
   "metadata": {},
   "outputs": [],
   "source": [
    "labelIndexer = StringIndexer(inputCol=\"VETTING_LEVEL\", outputCol=\"label\", handleInvalid=\"error\")\n",
    "labelModel = labelIndexer.fit(LabeledVettingData)\n",
    "converter = IndexToString(inputCol=\"prediction\", outputCol=\"predCategory\", labels=labelModel.labels)"
   ]
  },
  {
   "cell_type": "markdown",
   "metadata": {},
   "source": [
    "Next, we will process all of the features we will use. While there are a variety of choices for transforming elements, we will treat each as a String using the StringIndexer.\n",
    "\n",
    "StringIndexer is a transformer that encodes a string column to a column of indices. The indices are ordered by value frequencies, so the most frequent value gets index 0. If the input column is numeric, it is cast to string first.\n",
    "\n",
    "For our vetting dataset, we are interested in all string based features so we will use the StringIndexer for them.  We need to use 'handleInvalid=\"skip\"' because not all values have been validated in our vetting set.  That means the algorithms will skip these records."
   ]
  },
  {
   "cell_type": "code",
   "execution_count": null,
   "metadata": {},
   "outputs": [],
   "source": [
    "categoryIndexer = StringIndexer(inputCol=\"Category\", outputCol=\"categoryIndex\", handleInvalid=\"skip\")\n",
    "countryIndexer = StringIndexer(inputCol=\"PASSPORT_COUNTRY\", outputCol=\"countryIndex\", handleInvalid=\"skip\")\n",
    "yearOfBirthIndexer = StringIndexer(inputCol=\"BIRTH_YEAR\", outputCol=\"birthYearIndex\", handleInvalid=\"skip\")"
   ]
  },
  {
   "cell_type": "markdown",
   "metadata": {},
   "source": [
    "Now, put all of our features into a simple array using a VectorAssembler.\n",
    "\n",
    "Note that COUNTRIIES_VISITED_COUNT is already a numeric, so we can just put that in the array as is.\n"
   ]
  },
  {
   "cell_type": "code",
   "execution_count": null,
   "metadata": {},
   "outputs": [],
   "source": [
    "vecAssembler = VectorAssembler(inputCols=[\"categoryIndex\",\"countryIndex\",\"birthYearIndex\", \"COUNTRIES_VISITED_COUNT\"], outputCol=\"features\")"
   ]
  },
  {
   "cell_type": "markdown",
   "metadata": {},
   "source": [
    "Normalizer will help us normalize the features into a standard frmat.  It can help us improve the behavior of the learning algorithms.\n"
   ]
  },
  {
   "cell_type": "code",
   "execution_count": null,
   "metadata": {},
   "outputs": [],
   "source": [
    "normalizer = Normalizer(inputCol=\"features\", outputCol=\"normFeatures\", p=1.0)"
   ]
  },
  {
   "cell_type": "markdown",
   "metadata": {},
   "source": [
    "<a id=\"model\"></a>\n",
    "## Declare the model that we want to use\n",
    "\n",
    "The model here is Naive Bayes.  It will output each prediction into a 'prediction' column.  Naive Bayes  is a probabistic model that learns based on previous decisions.  We will take a best guess at the paramater 'smoothing'- SparkML will help us tune it later!\n"
   ]
  },
  {
   "cell_type": "code",
   "execution_count": null,
   "metadata": {},
   "outputs": [],
   "source": [
    "nb = NaiveBayes(smoothing=1.0, featuresCol=\"normFeatures\",modelType=\"multinomial\", labelCol=\"label\", predictionCol=\"prediction\")"
   ]
  },
  {
   "cell_type": "markdown",
   "metadata": {},
   "source": [
    "<a id=\"pipeline\"></a>\n",
    "## Setup the Pipeline\n",
    "\n",
    "The pipeline is the guts of the algorithm that strings all the work we've done together.\n",
    "\n",
    "The stages are run in order and the input DataFrame is transformed as it passes through each stage.   First, comes the feature transformations, then the assembler to put them togather into one DF.  We pass that into the model. \n",
    "\n",
    "In machine learning, it is common to run a sequence of algorithms to process and learn from data, so this can get as complex as we want to make it!"
   ]
  },
  {
   "cell_type": "code",
   "execution_count": null,
   "metadata": {},
   "outputs": [],
   "source": [
    "pipeline = Pipeline(stages=[labelIndexer,categoryIndexer,countryIndexer, yearOfBirthIndexer, vecAssembler, normalizer, nb, converter])"
   ]
  },
  {
   "cell_type": "markdown",
   "metadata": {},
   "source": [
    "<a id=\"train\"></a>\n",
    "## Train the model\n",
    "\n",
    "We will split it into training data which is marked and test data which will be used to test the efficiency of the algorithms.\n",
    "\n",
    "It is common to split the split up the data randomly into 70% for training and 30% for testing.  If we were to use a bigger training set, we might use an 80% / 20% split."
   ]
  },
  {
   "cell_type": "code",
   "execution_count": null,
   "metadata": {},
   "outputs": [],
   "source": [
    "train, test = LabeledVettingData.randomSplit([70.0,30.0], seed=152345)\n",
    "train.cache()\n",
    "test.cache()\n",
    "print('The number of records in the training data set is {}.'.format(train.count()))\n",
    "print('The number of rows labeled high is {}.'.format(train.filter(train['VETTING_LEVEL'] == 10).count()))\n",
    "print('The number of rows labeled medium is {}.'.format(train.filter(train['VETTING_LEVEL'] == 20).count()))\n",
    "print('The number of rows labeled low is {}.'.format(train.filter(train['VETTING_LEVEL'] == 30).count()))\n",
    "print('')\n",
    "\n",
    "print('The number of records in the test data set is {}.'.format(test.count()))\n",
    "print('The number of rows labeled high is {}.'.format(test.filter(test['VETTING_LEVEL'] == 10).count()))\n",
    "print('The number of rows labeled medium is {}.'.format(test.filter(test['VETTING_LEVEL'] == 20).count()))\n",
    "print('The number of rows labeled low is {}.'.format(test.filter(test['VETTING_LEVEL'] == 30).count()))"
   ]
  },
  {
   "cell_type": "markdown",
   "metadata": {},
   "source": [
    "Fit the pipeline to the training data.  This will run the data through the algorithm to train it based on our labled data."
   ]
  },
  {
   "cell_type": "code",
   "execution_count": null,
   "metadata": {},
   "outputs": [],
   "source": [
    "# Fit the pipeline to the training data assigning the result to a variable called 'model'.\n",
    "model = pipeline.fit(train)"
   ]
  },
  {
   "cell_type": "markdown",
   "metadata": {},
   "source": [
    "Make predictions on records in the Test data set.  This will test the model based on the 30% data we have left in reserve.  Keep in mind that the model has not seen the data in the test data set."
   ]
  },
  {
   "cell_type": "code",
   "execution_count": null,
   "metadata": {},
   "outputs": [],
   "source": [
    "# Make predictions on the test data assigning the result to a variable called 'predictions'.\n",
    "predictions = model.transform(test)"
   ]
  },
  {
   "cell_type": "markdown",
   "metadata": {},
   "source": [
    "<a id=\"evaluate\"></a>\n",
    "## Show and Evaluate Results\n",
    "\n",
    "Note that we only got a small sample of the results back because we have a very small amount of training data. "
   ]
  },
  {
   "cell_type": "code",
   "execution_count": null,
   "metadata": {},
   "outputs": [],
   "source": [
    "predictions.count()"
   ]
  },
  {
   "cell_type": "markdown",
   "metadata": {},
   "source": [
    "SparkML has automated ways to look at result quality called Evaluators.  More information can be found here:\n",
    "http://spark.apache.org/docs/latest/mllib-evaluation-metrics.html\n",
    "\n",
    "For simplicity here, we will use a a common evaluation method called Reciever Operator Characteristic.  This genenerally is used for binary classifiers, but we will use it because we only have 3 levels of prediction.\n",
    "\n",
    "The curve is created by plotting the true positive rate against the false positive rate at various threshold settings. The ROC curve is thus the sensitivity as a function of fall-out. The area under the ROC curve is useful for comparing and selecting the best machine learning model for a given data set. A model with an area under the ROC curve score near 1 has very good performance. A model with a score near 0.5 is about as good as flipping a coin."
   ]
  },
  {
   "cell_type": "code",
   "execution_count": null,
   "metadata": {},
   "outputs": [],
   "source": [
    "evaluator = BinaryClassificationEvaluator().setLabelCol(\"label\").setMetricName(\"areaUnderROC\")\n",
    "print('Area under the ROC curve = {}.'.format(evaluator.evaluate(predictions)))"
   ]
  },
  {
   "cell_type": "markdown",
   "metadata": {},
   "source": [
    "<a id=\"tuning\"></a>\n",
    "## Automatic Algorithm Tuning - Also Called  Hyperparameter Tuning\n",
    "\n",
    "\n",
    "Spark ML algorithms provide many hyperparameters for tuning models. These hyperparameters are distinct from the model parameters being optimized by Spark ML itself.  Hyperparameter tuning is accomplished by choosing the best set of parameters based on model performance on test data that the model was not trained with. All combinations of hyperparameters specified will be tried in order to find the one that leads to the model with the best evaluation result."
   ]
  },
  {
   "cell_type": "markdown",
   "metadata": {},
   "source": [
    "First we will build a paramater grid to tell SparkML what to change in its testing.  Note that we are changing all the paramaters we setup in our pipeline before - the 'smoothing' in our model, and the normalizer parameter."
   ]
  },
  {
   "cell_type": "code",
   "execution_count": null,
   "metadata": {},
   "outputs": [],
   "source": [
    "paramGrid = (ParamGridBuilder().addGrid(nb.smoothing, [0.50,0.75,1.0])\n",
    "                 .addGrid(normalizer.p, [1.0, 1.25, 1.5]).build())"
   ]
  },
  {
   "cell_type": "markdown",
   "metadata": {},
   "source": [
    "Now, create a cross validator to tune the pipeline with the generated parameter grid.  Cross-validation attempts to fit the underlying estimator with user-specified combinations of parameters, cross-evaluate the fitted models, and output the best one.  "
   ]
  },
  {
   "cell_type": "code",
   "execution_count": null,
   "metadata": {},
   "outputs": [],
   "source": [
    "cv = CrossValidator().setEstimator(pipeline).setEvaluator(evaluator).setEstimatorParamMaps(paramGrid).setNumFolds(5)"
   ]
  },
  {
   "cell_type": "markdown",
   "metadata": {},
   "source": [
    "Next, we will run the models through the grid we set above.  It runs a cross evaluation of the ML Pipeline to find the best model.  Note that since runs the model several times, it takes a few minutes to run."
   ]
  },
  {
   "cell_type": "code",
   "execution_count": null,
   "metadata": {},
   "outputs": [],
   "source": [
    "cvModel = cv.fit(train)\n",
    "print('Area under the ROC curve for best fitted model = {}.'.format(evaluator.evaluate(cvModel.transform(test))))"
   ]
  },
  {
   "cell_type": "markdown",
   "metadata": {},
   "source": [
    "Let's see what improvement we achieve by tuning the hyperparameters using cross-evaluation "
   ]
  },
  {
   "cell_type": "code",
   "execution_count": null,
   "metadata": {},
   "outputs": [],
   "source": [
    "print('Area under the ROC curve for non-tuned model = {}.'.format(evaluator.evaluate(predictions)))\n",
    "print('Area under the ROC curve for best fitted model = {}.'.format(evaluator.evaluate(cvModel.transform(test))))\n",
    "print('Improvement = {0:0.2f}%'.format((evaluator.evaluate(cvModel.transform(test)) - evaluator.evaluate(predictions)) *100 / evaluator.evaluate(predictions)))"
   ]
  },
  {
   "cell_type": "markdown",
   "metadata": {},
   "source": [
    "<a id=\"score\"></a>\n",
    "## Score the remaining records that were unscored\n",
    "\n",
    "First, we want to only get the unvetted records."
   ]
  },
  {
   "cell_type": "code",
   "execution_count": null,
   "metadata": {},
   "outputs": [],
   "source": [
    "NewVettingData=AllVettingData.filter(\"VETTING_LEVEL == 100\")"
   ]
  },
  {
   "cell_type": "markdown",
   "metadata": {},
   "source": [
    "Next, transform the new model with the new vetting records"
   ]
  },
  {
   "cell_type": "code",
   "execution_count": null,
   "metadata": {},
   "outputs": [],
   "source": [
    "newPreds = cvModel.transform(NewVettingData)"
   ]
  },
  {
   "cell_type": "markdown",
   "metadata": {},
   "source": [
    " Show the data we have predicted and some of the fields in the data.  "
   ]
  },
  {
   "cell_type": "code",
   "execution_count": null,
   "metadata": {},
   "outputs": [],
   "source": [
    "newPreds.select(\"prediction\", \"predCategory\", \"probability\", \"NAME\", \"COUNTRIES_VISITED_COUNT\", \"PASSPORT_COUNTRY\" ).show()"
   ]
  },
  {
   "cell_type": "markdown",
   "metadata": {},
   "source": [
    "Remember that VETTING_LEVEL is in three different statuses:\n",
    "\n",
    "\n",
    "10- HIGH\n",
    "\n",
    "20- MEDIUM\n",
    "\n",
    "30 - LOW\n",
    "\n",
    "\n",
    "Let's print the total number of vetting statuses that we predicted.  The actual predicted data is low because we only have a few vetted records.  Remember that we had to 'skip' and features that were not in our trained data, so if we didn't have someone who was born in a certain year in our training data, we won't be able to predict a result."
   ]
  },
  {
   "cell_type": "code",
   "execution_count": null,
   "metadata": {},
   "outputs": [],
   "source": [
    "print('The number of records in the unvetted data set is {}.'.format(newPreds.count()))\n",
    "print('The number of rows labeled high is {}.'.format(newPreds.filter(newPreds['predCategory'] == 10).count()))\n",
    "print('The number of rows labeled medium is {}.'.format(newPreds.filter(newPreds['predCategory'] == 20).count()))\n",
    "print('The number of rows labeled low is {}.'.format(newPreds.filter(newPreds['predCategory'] == 30).count()))"
   ]
  },
  {
   "cell_type": "markdown",
   "metadata": {},
   "source": [
    "## Try Random Forest Model "
   ]
  },
  {
   "cell_type": "code",
   "execution_count": null,
   "metadata": {},
   "outputs": [],
   "source": [
    "rf = RandomForestClassifier().setLabelCol(\"label\").setFeaturesCol(\"normFeatures\").setNumTrees(15)\n",
    "# Create new Pipeline using the RandomForest model and all the same feature transformers used above for logistic regression\n",
    "pipelineRF = Pipeline(stages=[labelIndexer,categoryIndexer,countryIndexer, yearOfBirthIndexer, vecAssembler, normalizer, rf, converter])\n",
    "\n",
    "# Train model.\n",
    "modelRF = pipelineRF.fit(train)\n",
    "\n",
    "# Make predictions.\n",
    "predictionsRF = modelRF.transform(test)\n",
    "\n",
    "evaluator = BinaryClassificationEvaluator().setLabelCol(\"label\").setMetricName(\"areaUnderROC\")\n",
    "print('Area under the ROC curve = {}.'.format(evaluator.evaluate(predictionsRF)))\n",
    "\n",
    "newRFPreds = modelRF.transform(NewVettingData)\n",
    "\n",
    "print('The number of records in the unvetted data set is {}.'.format(newRFPreds.count()))\n",
    "print('The number of rows labeled high is {}.'.format(newRFPreds.filter(newRFPreds['predCategory'] == 10).count()))\n",
    "print('The number of rows labeled medium is {}.'.format(newRFPreds.filter(newRFPreds['predCategory'] == 20).count()))\n",
    "print('The number of rows labeled low is {}.'.format(newRFPreds.filter(newRFPreds['predCategory'] == 30).count()))\n"
   ]
  },
  {
   "cell_type": "markdown",
   "metadata": {},
   "source": [
    "## Save Model - This section below demonstrates the Watson Machine Language API which allows you to programmatically save the model that was trained to a model repository.  The model can then be deployed for use in a production application.  \n",
    "\n",
    "\n",
    "\n"
   ]
  },
  {
   "cell_type": "code",
   "execution_count": null,
   "metadata": {},
   "outputs": [],
   "source": [
    "wml_credentials = {\n",
    "    \"apikey\": api_key,\n",
    "    \"url\": 'https://' + location + '.ml.cloud.ibm.com'\n",
    "}"
   ]
  },
  {
   "cell_type": "code",
   "execution_count": null,
   "metadata": {},
   "outputs": [],
   "source": [
    "from ibm_watson_machine_learning import APIClient\n",
    "\n",
    "client = APIClient(wml_credentials)\n",
    "client.set.default_project(projectid)"
   ]
  },
  {
   "cell_type": "code",
   "execution_count": null,
   "metadata": {},
   "outputs": [],
   "source": [
    "software_spec_uid = client.software_specifications.get_uid_by_name(\"spark-mllib_3.0-py37\")\n",
    "software_spec_uid"
   ]
  },
  {
   "cell_type": "code",
   "execution_count": null,
   "metadata": {},
   "outputs": [],
   "source": [
    "metadata = {\n",
    "        client.repository.ModelMetaNames.NAME: 'FHT_Spark',\n",
    "        client.repository.ModelMetaNames.DESCRIPTION :'',\n",
    "        client.repository.ModelMetaNames.TYPE: \"mllib_2.4\",\n",
    "        client.repository.ModelMetaNames.SOFTWARE_SPEC_UID : \"36507ebe-8770-55ba-ab2a-eafe787600e9\"\n",
    "}\n",
    "        "
   ]
  },
  {
   "cell_type": "markdown",
   "metadata": {},
   "source": [
    "## After the cell below is executed, a model entry \"FHT Spark\" will appear in the Project Model section. "
   ]
  },
  {
   "cell_type": "code",
   "execution_count": null,
   "metadata": {},
   "outputs": [],
   "source": [
    "client.repository.store_model(modelRF, meta_props=metadata, training_data=train, pipeline=pipelineRF)"
   ]
  },
  {
   "cell_type": "markdown",
   "metadata": {},
   "source": [
    "## Please return to the lab instructions"
   ]
  }
 ],
 "metadata": {
  "kernelspec": {
   "display_name": "Python 3.7 with Spark",
   "language": "python3",
   "name": "python37"
  },
  "language_info": {
   "codemirror_mode": {
    "name": "ipython",
    "version": 3
   },
   "file_extension": ".py",
   "mimetype": "text/x-python",
   "name": "python",
   "nbconvert_exporter": "python",
   "pygments_lexer": "ipython3",
   "version": "3.7.10"
  }
 },
 "nbformat": 4,
 "nbformat_minor": 1
}
